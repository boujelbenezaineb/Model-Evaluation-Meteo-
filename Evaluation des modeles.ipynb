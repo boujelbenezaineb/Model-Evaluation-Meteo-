{
 "cells": [
  {
   "cell_type": "code",
   "execution_count": 1,
   "metadata": {},
   "outputs": [],
   "source": [
    "import matplotlib.cm as cm\n",
    "import math\n",
    "import netCDF4 as nc\n",
    "import numpy as np\n",
    "import scipy as spw\n",
    "from netCDF4 import Dataset\n",
    "import pandas as pd\n",
    "import matplotlib as plt\n",
    "from sklearn.metrics import r2_score\n",
    "from scipy.stats import variation\n",
    "from sklearn.model_selection import TimeSeriesSplit\n",
    "from statsmodels.graphics.gofplots import qqplot\n",
    "from sklearn.metrics import mean_squared_error\n",
    "from math import sqrt\n",
    "from sklearn.metrics import mean_absolute_error"
   ]
  },
  {
   "cell_type": "code",
   "execution_count": 2,
   "metadata": {},
   "outputs": [],
   "source": [
    "xls = pd.ExcelFile('C:/Users/htc/Desktop/DATA/Comparaison_Precip.xlsx')"
   ]
  },
  {
   "cell_type": "code",
   "execution_count": 3,
   "metadata": {},
   "outputs": [
    {
     "name": "stdout",
     "output_type": "stream",
     "text": [
      "['TABARKA', 'BIZERTE', 'TUNIS', 'KELIBIA', 'BEJA', 'JENDOUBA', 'NABEUL', 'ZAGHOUAN', 'KEF', 'SILIANA', 'KAIROUAN', 'THALA', 'KASSERINE', 'MONASTIR', 'MAHDIA', 'GAFSA', 'SIDI BOUZID', 'SFAX', 'TOZEUR', 'GABES', 'JERBA', 'MEDENINE', 'REAMDA', 'EL BORMA']\n"
     ]
    }
   ],
   "source": [
    "print(xls.sheet_names)"
   ]
  },
  {
   "cell_type": "code",
   "execution_count": 21,
   "metadata": {},
   "outputs": [],
   "source": [
    "df1 = pd.read_excel(xls,'TABARKA')"
   ]
  },
  {
   "cell_type": "code",
   "execution_count": 22,
   "metadata": {},
   "outputs": [
    {
     "name": "stdout",
     "output_type": "stream",
     "text": [
      "     Station id       Date    Precip  Precip obs\n",
      "0         60710 2020-06-01  9.405486         0.0\n",
      "1         60710 2020-06-02  0.000000         0.0\n",
      "2         60710 2020-06-03  0.000000         0.0\n",
      "3         60710 2020-06-04  0.861540         6.4\n",
      "4         60710 2020-06-05  0.000000         0.4\n",
      "..          ...        ...       ...         ...\n",
      "209       60710 2020-12-27  0.002185        23.6\n",
      "210       60710 2020-12-28  0.000000         0.0\n",
      "211       60710 2020-12-29  0.002664         7.8\n",
      "212       60710 2020-12-30  0.000000         6.8\n",
      "213       60710 2020-12-31  0.000000         0.0\n",
      "\n",
      "[214 rows x 4 columns]\n"
     ]
    }
   ],
   "source": [
    "print(df1)"
   ]
  },
  {
   "cell_type": "code",
   "execution_count": 23,
   "metadata": {},
   "outputs": [],
   "source": [
    "T1 = ['Precip']\n",
    "T2 = ['Precip obs']"
   ]
  },
  {
   "cell_type": "code",
   "execution_count": 24,
   "metadata": {},
   "outputs": [
    {
     "name": "stdout",
     "output_type": "stream",
     "text": [
      "MOY Precip: 1.581419 MOY Precip obs: 2.805607\n"
     ]
    }
   ],
   "source": [
    "MOY1 = np.mean(df1[T1])\n",
    "MOY2 = np.mean(df1[T2])\n",
    "print('MOY Precip: %f' % MOY1 , 'MOY Precip obs: %f' % MOY2)"
   ]
  },
  {
   "cell_type": "code",
   "execution_count": 25,
   "metadata": {},
   "outputs": [
    {
     "name": "stdout",
     "output_type": "stream",
     "text": [
      "R2: -0.523081\n"
     ]
    }
   ],
   "source": [
    "r2 = r2_score(df1[T1], df1[T2])\n",
    "print('R2: %f' % r2)"
   ]
  },
  {
   "cell_type": "code",
   "execution_count": 9,
   "metadata": {},
   "outputs": [
    {
     "name": "stdout",
     "output_type": "stream",
     "text": [
      "MAE: 1.630470\n"
     ]
    }
   ],
   "source": [
    "mae = mean_absolute_error(df1[T1],df1[T2])\n",
    "print('MAE: %f' % mae)"
   ]
  },
  {
   "cell_type": "code",
   "execution_count": 10,
   "metadata": {},
   "outputs": [
    {
     "name": "stdout",
     "output_type": "stream",
     "text": [
      "MSE: 35.718163\n"
     ]
    }
   ],
   "source": [
    "mse = mean_squared_error(df1[T1],df1[T2])\n",
    "print('MSE: %f' % mse)"
   ]
  },
  {
   "cell_type": "code",
   "execution_count": 11,
   "metadata": {},
   "outputs": [
    {
     "name": "stdout",
     "output_type": "stream",
     "text": [
      "RMSE: 5.976467\n"
     ]
    }
   ],
   "source": [
    "mse = mean_squared_error(df1[T1],df1[T2])\n",
    "rmse = sqrt(mse)\n",
    "print('RMSE: %f' % rmse)"
   ]
  },
  {
   "cell_type": "code",
   "execution_count": 12,
   "metadata": {},
   "outputs": [
    {
     "name": "stdout",
     "output_type": "stream",
     "text": [
      "BIAIS: -0.610650\n"
     ]
    }
   ],
   "source": [
    "df1['diff'] = df1['Precip'].sub(df1['Precip obs'], axis = 0)\n",
    "biais=(df1['diff'].sum())/len(df1[T1])\n",
    "print('BIAIS: %f' % biais)"
   ]
  },
  {
   "cell_type": "code",
   "execution_count": 13,
   "metadata": {},
   "outputs": [],
   "source": [
    "tab={'STATION':'TUNIS','R2':[r2],'MAE':[mae],'MSE':[mse],'RMSE':[rmse],'BIAIS':[biais]}\n",
    "df2=pd.DataFrame(tab, columns=['STATION','R2','MAE','MSE','RMSE','BIAIS'])"
   ]
  },
  {
   "cell_type": "code",
   "execution_count": 14,
   "metadata": {},
   "outputs": [
    {
     "name": "stdout",
     "output_type": "stream",
     "text": [
      "  STATION        R2      MAE        MSE      RMSE    BIAIS\n",
      "0   TUNIS -1.944508  1.63047  35.718163  5.976467 -0.61065\n"
     ]
    }
   ],
   "source": [
    "print(df2)"
   ]
  },
  {
   "cell_type": "code",
   "execution_count": 15,
   "metadata": {},
   "outputs": [],
   "source": [
    "#df2.to_csv('TABLEAU-1.csv')"
   ]
  },
  {
   "cell_type": "code",
   "execution_count": null,
   "metadata": {},
   "outputs": [],
   "source": []
  }
 ],
 "metadata": {
  "kernelspec": {
   "display_name": "Python 3",
   "language": "python",
   "name": "python3"
  },
  "language_info": {
   "codemirror_mode": {
    "name": "ipython",
    "version": 3
   },
   "file_extension": ".py",
   "mimetype": "text/x-python",
   "name": "python",
   "nbconvert_exporter": "python",
   "pygments_lexer": "ipython3",
   "version": "3.8.5"
  }
 },
 "nbformat": 4,
 "nbformat_minor": 4
}
