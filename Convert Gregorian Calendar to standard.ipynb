{
 "cells": [
  {
   "cell_type": "code",
   "execution_count": 13,
   "metadata": {},
   "outputs": [],
   "source": [
    "import matplotlib.cm as cm\n",
    "import math\n",
    "import netCDF4 as nc\n",
    "import numpy as np\n",
    "import scipy as sp\n",
    "import scipy.interpolate\n",
    "from netCDF4 import Dataset\n",
    "from numpy import arange, dtype\n",
    "from calendar import monthrange\n",
    "import pandas as pd\n",
    "from datetime import datetime, timedelta\n",
    "import datetime"
   ]
  },
  {
   "cell_type": "code",
   "execution_count": 28,
   "metadata": {},
   "outputs": [],
   "source": [
    "data = nc.Dataset('C:/Users/htc/Desktop/DATA/chirps.Jan_Tunisia.nc', mode='r')\n",
    "    #if print_data is True:\n",
    "           #print(data)\n",
    "lon = data.variables['longitude'][:]\n",
    "lat = data.variables['latitude'][:]\n",
    "var = data.variables['precip']#[:,:,:]\n",
    "tim = data.variables['time']\n",
    "\n",
    "tim_unit = data.variables['time'].units\n",
    "try:\n",
    "    tim_cal = data.variables['time'].calendar\n",
    "except AttributeError:\n",
    "    tim_cal = u\"gregorian\"\n",
    "if tim_cal in [\"360\", \"365\", \"366\"]:\n",
    "    tim_cal = tim_cal + \"_day\"\n",
    "\n",
    "dates = [date.strftime('%Y-%m-%d') for date in nc.num2date(tim, tim_unit, tim_cal)]"
   ]
  },
  {
   "cell_type": "code",
   "execution_count": 29,
   "metadata": {},
   "outputs": [
    {
     "name": "stdout",
     "output_type": "stream",
     "text": [
      "['1981-01-01', '1982-01-01', '1983-01-01', '1984-01-01', '1985-01-01', '1986-01-01', '1987-01-01', '1988-01-01', '1989-01-01', '1990-01-01', '1991-01-01', '1992-01-01', '1993-01-01', '1994-01-01', '1995-01-01', '1996-01-01', '1997-01-01', '1998-01-01', '1999-01-01', '2000-01-01', '2001-01-01', '2002-01-01', '2003-01-01', '2004-01-01', '2005-01-01', '2006-01-01', '2007-01-01', '2008-01-01', '2009-01-01', '2010-01-01', '2011-01-01', '2012-01-01', '2013-01-01', '2014-01-01', '2015-01-01', '2016-01-01', '2017-01-01', '2018-01-01', '2019-01-01', '2020-01-01', '2021-01-01']\n"
     ]
    }
   ],
   "source": [
    "print(dates)"
   ]
  },
  {
   "cell_type": "code",
   "execution_count": null,
   "metadata": {},
   "outputs": [],
   "source": []
  }
 ],
 "metadata": {
  "kernelspec": {
   "display_name": "Python 3",
   "language": "python",
   "name": "python3"
  },
  "language_info": {
   "codemirror_mode": {
    "name": "ipython",
    "version": 3
   },
   "file_extension": ".py",
   "mimetype": "text/x-python",
   "name": "python",
   "nbconvert_exporter": "python",
   "pygments_lexer": "ipython3",
   "version": "3.8.5"
  }
 },
 "nbformat": 4,
 "nbformat_minor": 5
}
